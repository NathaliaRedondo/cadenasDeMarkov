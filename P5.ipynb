{
 "cells": [
  {
   "cell_type": "markdown",
   "id": "1586721d",
   "metadata": {},
   "source": [
    "---\n",
    "### Universidad de Costa Rica\n",
    "#### IE0405 - Modelos Probabilísticos de Señales y Sistemas\n",
    "---\n",
    "\n",
    "- Estudiante 1: **Alejandro Zuniga Perez**\n",
    "- Carné: **B59097**\n",
    "- Grupo: **1**\n"
    "- Estudiante 2: **Nathalia Redondo Brenes**\n",
    "- Carné: **B45707**\n",
    "- Grupo: **2**\n"
   ]
  },
  {
   "cell_type": "markdown",
   "id": "5f599dbe",
   "metadata": {},
   "source": [
    "\n",
    "## 1. - Primera parte: Determinación teórica del número  s de servidores necesarios para cumplir el requisito.\n",
    "\n",
    "Es menester tomar una decisión con respecto al número de \"servidores\" necesarios para cierto proceso de vacunación, de forma tal que el sistema no exceda 50 personas en fila durante el 95% del tiempo de servicio. \n",
    "\n",
    "En un estudio de afluencia y del tiempo de servicio se asumen y determinan los siguientes parámetros:\n",
    "\n",
    "- La tasa de llegada $\\lambda$ es constante durante ocho horas de funcionamiento y tiene un valor de $\\lambda = 4$ personas por minuto.\n",
    "\n",
    "- La tasa de servicio $\\nu$ de cada \"servidor\" (es decir, personal de salud tomando datos y vacunando) es constante durante ocho horas de funcionamiento y tiene un valor de $\\nu = 0.25$ personas por minuto.\n",
    "\n",
    "Otro aspecto de gran importancia es que en el enunciado se menciona que el sistema no debe exceder la cantidad de 100 personas en la fila durante el 95% del tiempo. Tomando en cuenta cuando se tienen más de 50 personas (en este caso 51), se tiene la siguiente probabilidad:\n",
    "\n",
    "$$ P(\\text{51 o más clientes en el sistema})=\\sum_{i=5}^{\\infty}(1-\\rho)\\rho^i$$\n",
    "\n",
    "Dicho esto, se conoce que $\\rho$ es:\n",
    "\n",
    "$$\\rho= \\frac{\\lambda}{s\\cdot v}$$\n",
    "\n",
    "$$\\rho= \\frac{4}{s\\cdot 0.25}$$\n",
    "\n",
    "$$\\rho= \\frac{16}{s}$$\n",
    "\n",
    "Para que no se excedan las 50 personas el 5% del tiempo se debe cumplir la siguiente inecuación:\n",
    "\n",
    "$$\\sum_{i=5}^{\\infty}\\left(1-\\frac{16}{s}\\right) \\left(\\frac{16}{s}\\right)^{i}\\leq0.05$$\n",
    "\n",
    "$$\\sum_{i=0}^{50}\\left(1-\\frac{16}{s}\\right)\\left(\\frac{16}{s}\\right)^i\\leq0.05$$\n",
    "\n",
    "Resolviendo la inecuación anterior, en el programa Mathematica (código se muestra a continuación), se obtiene el siguiente resultado:\n",
    "`Solve[Sum[(1 - 16/s)*(16/s)^i, {i, 0, 50}] == 0.05, s, Reals]`\n",
    "\n",
    "$$S\\geq28.8429 \\approx 29$$\n",
    "\n",
    "Con este resultado, se llega a la conclusión que se ocupan alrededor de 29 servidores para que el sistema funcione correctamente y no se sobrepasen las 100 personas en la fila en el 95% del tiempo.\n",
    "\n",
    "Para validar el resultado se debe cumplir que $\\rho<1$, por lo que:\n",
    "\n",
    "$$\\rho=\\frac{28}{28.8429}=0.9708$$\n",
    "\n",
    "$$0.9708<1$$\n",
    "\n",
    "Con esto se confirma que el resultado obtenido se cumple dicha condición.\n",
    "\n",
    "## 2. - Segunda parte: Modificación del código.\n"
   ]
  }
 ],
 "metadata": {
  "kernelspec": {
   "display_name": "Python 3 (ipykernel)",
   "language": "python",
   "name": "python3"
  },
  "language_info": {
   "codemirror_mode": {
    "name": "ipython",
    "version": 3
   },
   "file_extension": ".py",
   "mimetype": "text/x-python",
   "name": "python",
   "nbconvert_exporter": "python",
   "pygments_lexer": "ipython3",
   "version": "3.9.7"
  }
 },
 "nbformat": 4,
 "nbformat_minor": 5
}
